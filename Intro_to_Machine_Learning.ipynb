{
 "cells": [
  {
   "cell_type": "markdown",
   "id": "f69c9b0c",
   "metadata": {},
   "source": [
    "# Machine Learning\n",
    "This is a long tutorial that will explore the basic applications of machine learning algorithms. The only part that is required to be turned in is the exercise section at the end. You are, of course, encouraged to look into the subject farther on your own but for this course, only a shallow understanding is expected/required to complete the activities."
   ]
  },
  {
   "cell_type": "markdown",
   "id": "0b6b58f8",
   "metadata": {},
   "source": [
    "# (1) Set Up"
   ]
  },
  {
   "cell_type": "markdown",
   "id": "d35e92a4",
   "metadata": {},
   "source": [
    "## First Things First\n",
    "Imports"
   ]
  },
  {
   "cell_type": "code",
   "execution_count": 8,
   "id": "6e24aa2e",
   "metadata": {},
   "outputs": [],
   "source": [
    "import numpy as np # support for arrays and vectorized operations\n",
    "import pandas as pd # support for DataFrames and Series\n",
    "import matplotlib.pyplot as plt # main graphing library\n",
    "\n",
    "import warnings\n",
    "warnings.filterwarnings('ignore')"
   ]
  },
  {
   "cell_type": "markdown",
   "id": "68e41079",
   "metadata": {},
   "source": [
    "## Getting Sample Data\n",
    "sklearn, the machine learning package we will be using has a number of toy datasets within it to show different models or compare algorithms. "
   ]
  },
  {
   "cell_type": "code",
   "execution_count": 9,
   "id": "2a466db5",
   "metadata": {},
   "outputs": [],
   "source": [
    "from sklearn import datasets\n",
    "\n",
    "iris = datasets.load_iris()\n",
    "wine = datasets.load_wine()\n",
    "diabetes = datasets.load_diabetes()"
   ]
  },
  {
   "cell_type": "markdown",
   "id": "881314a2",
   "metadata": {},
   "source": [
    "# (2) Preprocessing"
   ]
  },
  {
   "cell_type": "markdown",
   "id": "1403b8aa",
   "metadata": {},
   "source": [
    "It's important that we preprocess our data before we make machine learning techniques. We've already seen one type of preprocessing technique before, masking out NA values. Getting rid of NA values is essential as many ML algorithms can't handle them and will throw an error. \n",
    "\n",
    "There are two other types of preprocessing techniques which we will now go over:\n",
    "1. Encoding - This means turning a categorical variable into a numeric veriable. ML algorithms can only work with numbers, and to allow it to understand qualitative variables, we convert them into numbers. The number itself doesn't matter. E.g. [Male, Female] could become [0, 1] or [1, 0] and the ML algorithm would treat them the same. Generally, the easiest way to do this is to just assign each of the possible values of the variable to a number sequentially, a method called Ordinal Encoding.\n",
    "<br></br>\n",
    "2. Scaling - This means reshaping the data to account for difference in distribution between variables. In this case, we are using standard scaling so that we remove the mean and scale the data to unit variance. What we end up with is a range of values preserve the relations between the original data points but is centered at 0.\n",
    "\n",
    "Encoding may be a little easier to understand why it is necessary but to demonstrate why scaling is necessary, here is a short demo using dimensionality reduction techniques which we will explore late (separation of colors is the goal here)."
   ]
  },
  {
   "cell_type": "markdown",
   "id": "69006495",
   "metadata": {},
   "source": [
    "## Scaling"
   ]
  },
  {
   "cell_type": "code",
   "execution_count": 10,
   "id": "3b75a13c",
   "metadata": {
    "scrolled": true
   },
   "outputs": [
    {
     "ename": "ModuleNotFoundError",
     "evalue": "No module named 'umap'",
     "output_type": "error",
     "traceback": [
      "\u001b[0;31m---------------------------------------------------------------------------\u001b[0m",
      "\u001b[0;31mModuleNotFoundError\u001b[0m                       Traceback (most recent call last)",
      "Cell \u001b[0;32mIn[10], line 2\u001b[0m\n\u001b[1;32m      1\u001b[0m \u001b[38;5;28;01mfrom\u001b[39;00m \u001b[38;5;21;01msklearn\u001b[39;00m\u001b[38;5;21;01m.\u001b[39;00m\u001b[38;5;21;01mpreprocessing\u001b[39;00m \u001b[38;5;28;01mimport\u001b[39;00m StandardScaler\n\u001b[0;32m----> 2\u001b[0m \u001b[38;5;28;01mfrom\u001b[39;00m \u001b[38;5;21;01mumap\u001b[39;00m \u001b[38;5;28;01mimport\u001b[39;00m UMAP\n\u001b[1;32m      3\u001b[0m fix, axs \u001b[38;5;241m=\u001b[39m plt\u001b[38;5;241m.\u001b[39msubplots(\u001b[38;5;241m1\u001b[39m, \u001b[38;5;241m2\u001b[39m, constrained_layout\u001b[38;5;241m=\u001b[39m\u001b[38;5;28;01mTrue\u001b[39;00m)\n\u001b[1;32m      5\u001b[0m scaler \u001b[38;5;241m=\u001b[39m StandardScaler()\n",
      "\u001b[0;31mModuleNotFoundError\u001b[0m: No module named 'umap'"
     ]
    }
   ],
   "source": [
    "from sklearn.preprocessing import StandardScaler\n",
    "from umap import UMAP\n",
    "fix, axs = plt.subplots(1, 2, constrained_layout=True)\n",
    "\n",
    "scaler = StandardScaler()\n",
    "\n",
    "embedding_unscaled = UMAP().fit_transform(wine.data)\n",
    "\n",
    "scaled_data = scaler.fit_transform(wine.data)\n",
    "embedding_scaled = UMAP().fit_transform(scaled_data)\n",
    "\n",
    "axs[0].scatter(embedding_unscaled[:, 0], embedding_unscaled[:, 1], c=wine.target, alpha=0.5, cmap='nipy_spectral')\n",
    "axs[0].set_title('No Scaling')\n",
    "\n",
    "axs[1].scatter(embedding_scaled[:, 0], embedding_scaled[:, 1], c=wine.target, alpha=0.5, cmap='nipy_spectral')\n",
    "axs[1].set_title('Scaled Data')"
   ]
  },
  {
   "cell_type": "markdown",
   "id": "418229ec",
   "metadata": {},
   "source": [
    "## Encoding"
   ]
  },
  {
   "cell_type": "code",
   "execution_count": 11,
   "id": "8f7c9413",
   "metadata": {},
   "outputs": [
    {
     "data": {
      "text/html": [
       "<div>\n",
       "<style scoped>\n",
       "    .dataframe tbody tr th:only-of-type {\n",
       "        vertical-align: middle;\n",
       "    }\n",
       "\n",
       "    .dataframe tbody tr th {\n",
       "        vertical-align: top;\n",
       "    }\n",
       "\n",
       "    .dataframe thead th {\n",
       "        text-align: right;\n",
       "    }\n",
       "</style>\n",
       "<table border=\"1\" class=\"dataframe\">\n",
       "  <thead>\n",
       "    <tr style=\"text-align: right;\">\n",
       "      <th></th>\n",
       "      <th>gender</th>\n",
       "      <th>smoking_status</th>\n",
       "      <th>age</th>\n",
       "    </tr>\n",
       "  </thead>\n",
       "  <tbody>\n",
       "    <tr>\n",
       "      <th>0</th>\n",
       "      <td>male</td>\n",
       "      <td>yes</td>\n",
       "      <td>36</td>\n",
       "    </tr>\n",
       "    <tr>\n",
       "      <th>1</th>\n",
       "      <td>male</td>\n",
       "      <td>no</td>\n",
       "      <td>24</td>\n",
       "    </tr>\n",
       "    <tr>\n",
       "      <th>2</th>\n",
       "      <td>female</td>\n",
       "      <td>yes</td>\n",
       "      <td>57</td>\n",
       "    </tr>\n",
       "    <tr>\n",
       "      <th>3</th>\n",
       "      <td>male</td>\n",
       "      <td>yes</td>\n",
       "      <td>24</td>\n",
       "    </tr>\n",
       "    <tr>\n",
       "      <th>4</th>\n",
       "      <td>female</td>\n",
       "      <td>no</td>\n",
       "      <td>13</td>\n",
       "    </tr>\n",
       "  </tbody>\n",
       "</table>\n",
       "</div>"
      ],
      "text/plain": [
       "   gender smoking_status  age\n",
       "0    male            yes   36\n",
       "1    male             no   24\n",
       "2  female            yes   57\n",
       "3    male            yes   24\n",
       "4  female             no   13"
      ]
     },
     "execution_count": 11,
     "metadata": {},
     "output_type": "execute_result"
    }
   ],
   "source": [
    "from sklearn.preprocessing import OrdinalEncoder\n",
    "\n",
    "random_categorical = pd.DataFrame(\n",
    "    {\n",
    "    'gender' : ['male', 'male', 'female', 'male', 'female'],\n",
    "    'smoking_status' : ['yes', 'no', 'yes', 'yes', 'no'],\n",
    "    'age' : [36, 24, 57, 24, 13]\n",
    "    }\n",
    ")\n",
    "\n",
    "random_categorical # sample dataset with categorical data"
   ]
  },
  {
   "cell_type": "markdown",
   "id": "a0169cea",
   "metadata": {},
   "source": [
    "To encode (change from categorical to numerical) we can use OrdinalEncoder(). This works well when we have either a categorical variable with directional values or if we only have two possible values. Ensure that you are ONLY passing it the categorical columns (in this case, we DON'T want to pass it the age column)"
   ]
  },
  {
   "cell_type": "code",
   "execution_count": 12,
   "id": "2adf45c1",
   "metadata": {},
   "outputs": [
    {
     "data": {
      "text/html": [
       "<div>\n",
       "<style scoped>\n",
       "    .dataframe tbody tr th:only-of-type {\n",
       "        vertical-align: middle;\n",
       "    }\n",
       "\n",
       "    .dataframe tbody tr th {\n",
       "        vertical-align: top;\n",
       "    }\n",
       "\n",
       "    .dataframe thead th {\n",
       "        text-align: right;\n",
       "    }\n",
       "</style>\n",
       "<table border=\"1\" class=\"dataframe\">\n",
       "  <thead>\n",
       "    <tr style=\"text-align: right;\">\n",
       "      <th></th>\n",
       "      <th>gender</th>\n",
       "      <th>smoking_status</th>\n",
       "      <th>age</th>\n",
       "    </tr>\n",
       "  </thead>\n",
       "  <tbody>\n",
       "    <tr>\n",
       "      <th>0</th>\n",
       "      <td>1.0</td>\n",
       "      <td>1.0</td>\n",
       "      <td>36</td>\n",
       "    </tr>\n",
       "    <tr>\n",
       "      <th>1</th>\n",
       "      <td>1.0</td>\n",
       "      <td>0.0</td>\n",
       "      <td>24</td>\n",
       "    </tr>\n",
       "    <tr>\n",
       "      <th>2</th>\n",
       "      <td>0.0</td>\n",
       "      <td>1.0</td>\n",
       "      <td>57</td>\n",
       "    </tr>\n",
       "    <tr>\n",
       "      <th>3</th>\n",
       "      <td>1.0</td>\n",
       "      <td>1.0</td>\n",
       "      <td>24</td>\n",
       "    </tr>\n",
       "    <tr>\n",
       "      <th>4</th>\n",
       "      <td>0.0</td>\n",
       "      <td>0.0</td>\n",
       "      <td>13</td>\n",
       "    </tr>\n",
       "  </tbody>\n",
       "</table>\n",
       "</div>"
      ],
      "text/plain": [
       "  gender smoking_status  age\n",
       "0    1.0            1.0   36\n",
       "1    1.0            0.0   24\n",
       "2    0.0            1.0   57\n",
       "3    1.0            1.0   24\n",
       "4    0.0            0.0   13"
      ]
     },
     "execution_count": 12,
     "metadata": {},
     "output_type": "execute_result"
    }
   ],
   "source": [
    "encoder = OrdinalEncoder()\n",
    "unencoded_columns = random_categorical.loc[:, ['gender', 'smoking_status']]\n",
    "encoded_columns = encoder.fit_transform(unencoded_columns)\n",
    "random_categorical.loc[:, ['gender', 'smoking_status']] = encoded_columns\n",
    "\n",
    "random_categorical"
   ]
  },
  {
   "cell_type": "markdown",
   "id": "10178f84",
   "metadata": {},
   "source": [
    "To switch back from numerical to categorical, we use the inverse function. Your encoder must be the original encoder model you used to first encode it, or it will not be able to revert it back."
   ]
  },
  {
   "cell_type": "code",
   "execution_count": 13,
   "id": "fbaaf2e7",
   "metadata": {},
   "outputs": [
    {
     "data": {
      "text/html": [
       "<div>\n",
       "<style scoped>\n",
       "    .dataframe tbody tr th:only-of-type {\n",
       "        vertical-align: middle;\n",
       "    }\n",
       "\n",
       "    .dataframe tbody tr th {\n",
       "        vertical-align: top;\n",
       "    }\n",
       "\n",
       "    .dataframe thead th {\n",
       "        text-align: right;\n",
       "    }\n",
       "</style>\n",
       "<table border=\"1\" class=\"dataframe\">\n",
       "  <thead>\n",
       "    <tr style=\"text-align: right;\">\n",
       "      <th></th>\n",
       "      <th>gender</th>\n",
       "      <th>smoking_status</th>\n",
       "      <th>age</th>\n",
       "    </tr>\n",
       "  </thead>\n",
       "  <tbody>\n",
       "    <tr>\n",
       "      <th>0</th>\n",
       "      <td>male</td>\n",
       "      <td>yes</td>\n",
       "      <td>36</td>\n",
       "    </tr>\n",
       "    <tr>\n",
       "      <th>1</th>\n",
       "      <td>male</td>\n",
       "      <td>no</td>\n",
       "      <td>24</td>\n",
       "    </tr>\n",
       "    <tr>\n",
       "      <th>2</th>\n",
       "      <td>female</td>\n",
       "      <td>yes</td>\n",
       "      <td>57</td>\n",
       "    </tr>\n",
       "    <tr>\n",
       "      <th>3</th>\n",
       "      <td>male</td>\n",
       "      <td>yes</td>\n",
       "      <td>24</td>\n",
       "    </tr>\n",
       "    <tr>\n",
       "      <th>4</th>\n",
       "      <td>female</td>\n",
       "      <td>no</td>\n",
       "      <td>13</td>\n",
       "    </tr>\n",
       "  </tbody>\n",
       "</table>\n",
       "</div>"
      ],
      "text/plain": [
       "   gender smoking_status  age\n",
       "0    male            yes   36\n",
       "1    male             no   24\n",
       "2  female            yes   57\n",
       "3    male            yes   24\n",
       "4  female             no   13"
      ]
     },
     "execution_count": 13,
     "metadata": {},
     "output_type": "execute_result"
    }
   ],
   "source": [
    "original_columns = encoder.inverse_transform(random_categorical.loc[:, ['gender', 'smoking_status']])\n",
    "random_categorical.loc[:, ['gender', 'smoking_status']] = original_columns\n",
    "\n",
    "random_categorical"
   ]
  },
  {
   "cell_type": "markdown",
   "id": "449b30c5",
   "metadata": {},
   "source": [
    "# (3) Supervised Learning"
   ]
  },
  {
   "cell_type": "markdown",
   "id": "3cf28ff4",
   "metadata": {},
   "source": [
    "## Train-Test Split\n",
    "With supervised learning, we start with labeled data, split a portion of it off (test set) and use the other portion (train set) to train our model. We can then validate our model by using it on the test set and seeing how well it does.\n",
    "<br></br>\n",
    "sklearn makes this easy for us by providing a function which will do exactly that."
   ]
  },
  {
   "cell_type": "code",
   "execution_count": 14,
   "id": "a5bc2cba",
   "metadata": {},
   "outputs": [],
   "source": [
    "from sklearn.model_selection import train_test_split"
   ]
  },
  {
   "cell_type": "markdown",
   "id": "8e5a23fd",
   "metadata": {},
   "source": [
    "train_test_split takes three parameters\n",
    "+ data - the data which will be split\n",
    "+ target - the identified labels (must be numeric)\n",
    "+ train_size - the percent which will be used to train versus test, commonly between 50/50 to 80/20, but the choice is ultimately up to you"
   ]
  },
  {
   "cell_type": "code",
   "execution_count": 15,
   "id": "1ba57504",
   "metadata": {},
   "outputs": [
    {
     "data": {
      "text/plain": [
       "array([0, 0, 0, 0, 0, 0, 0, 0, 0, 0, 0, 0, 0, 0, 0, 0, 0, 0, 0, 0, 0, 0,\n",
       "       0, 0, 0, 0, 0, 0, 0, 0, 0, 0, 0, 0, 0, 0, 0, 0, 0, 0, 0, 0, 0, 0,\n",
       "       0, 0, 0, 0, 0, 0, 1, 1, 1, 1, 1, 1, 1, 1, 1, 1, 1, 1, 1, 1, 1, 1,\n",
       "       1, 1, 1, 1, 1, 1, 1, 1, 1, 1, 1, 1, 1, 1, 1, 1, 1, 1, 1, 1, 1, 1,\n",
       "       1, 1, 1, 1, 1, 1, 1, 1, 1, 1, 1, 1, 2, 2, 2, 2, 2, 2, 2, 2, 2, 2,\n",
       "       2, 2, 2, 2, 2, 2, 2, 2, 2, 2, 2, 2, 2, 2, 2, 2, 2, 2, 2, 2, 2, 2,\n",
       "       2, 2, 2, 2, 2, 2, 2, 2, 2, 2, 2, 2, 2, 2, 2, 2, 2, 2])"
      ]
     },
     "execution_count": 15,
     "metadata": {},
     "output_type": "execute_result"
    }
   ],
   "source": [
    "iris.target # 0, 1, 2 correspond to Iris satosa, Iris versicolour, Iris virginica "
   ]
  },
  {
   "cell_type": "code",
   "execution_count": 16,
   "id": "b5c724d5",
   "metadata": {},
   "outputs": [
    {
     "data": {
      "text/html": [
       "<div>\n",
       "<style scoped>\n",
       "    .dataframe tbody tr th:only-of-type {\n",
       "        vertical-align: middle;\n",
       "    }\n",
       "\n",
       "    .dataframe tbody tr th {\n",
       "        vertical-align: top;\n",
       "    }\n",
       "\n",
       "    .dataframe thead th {\n",
       "        text-align: right;\n",
       "    }\n",
       "</style>\n",
       "<table border=\"1\" class=\"dataframe\">\n",
       "  <thead>\n",
       "    <tr style=\"text-align: right;\">\n",
       "      <th></th>\n",
       "      <th>sepal length (cm)</th>\n",
       "      <th>sepal width (cm)</th>\n",
       "      <th>petal length (cm)</th>\n",
       "      <th>petal width (cm)</th>\n",
       "    </tr>\n",
       "  </thead>\n",
       "  <tbody>\n",
       "    <tr>\n",
       "      <th>0</th>\n",
       "      <td>5.1</td>\n",
       "      <td>3.5</td>\n",
       "      <td>1.4</td>\n",
       "      <td>0.2</td>\n",
       "    </tr>\n",
       "    <tr>\n",
       "      <th>1</th>\n",
       "      <td>4.9</td>\n",
       "      <td>3.0</td>\n",
       "      <td>1.4</td>\n",
       "      <td>0.2</td>\n",
       "    </tr>\n",
       "    <tr>\n",
       "      <th>2</th>\n",
       "      <td>4.7</td>\n",
       "      <td>3.2</td>\n",
       "      <td>1.3</td>\n",
       "      <td>0.2</td>\n",
       "    </tr>\n",
       "    <tr>\n",
       "      <th>3</th>\n",
       "      <td>4.6</td>\n",
       "      <td>3.1</td>\n",
       "      <td>1.5</td>\n",
       "      <td>0.2</td>\n",
       "    </tr>\n",
       "    <tr>\n",
       "      <th>4</th>\n",
       "      <td>5.0</td>\n",
       "      <td>3.6</td>\n",
       "      <td>1.4</td>\n",
       "      <td>0.2</td>\n",
       "    </tr>\n",
       "    <tr>\n",
       "      <th>...</th>\n",
       "      <td>...</td>\n",
       "      <td>...</td>\n",
       "      <td>...</td>\n",
       "      <td>...</td>\n",
       "    </tr>\n",
       "    <tr>\n",
       "      <th>145</th>\n",
       "      <td>6.7</td>\n",
       "      <td>3.0</td>\n",
       "      <td>5.2</td>\n",
       "      <td>2.3</td>\n",
       "    </tr>\n",
       "    <tr>\n",
       "      <th>146</th>\n",
       "      <td>6.3</td>\n",
       "      <td>2.5</td>\n",
       "      <td>5.0</td>\n",
       "      <td>1.9</td>\n",
       "    </tr>\n",
       "    <tr>\n",
       "      <th>147</th>\n",
       "      <td>6.5</td>\n",
       "      <td>3.0</td>\n",
       "      <td>5.2</td>\n",
       "      <td>2.0</td>\n",
       "    </tr>\n",
       "    <tr>\n",
       "      <th>148</th>\n",
       "      <td>6.2</td>\n",
       "      <td>3.4</td>\n",
       "      <td>5.4</td>\n",
       "      <td>2.3</td>\n",
       "    </tr>\n",
       "    <tr>\n",
       "      <th>149</th>\n",
       "      <td>5.9</td>\n",
       "      <td>3.0</td>\n",
       "      <td>5.1</td>\n",
       "      <td>1.8</td>\n",
       "    </tr>\n",
       "  </tbody>\n",
       "</table>\n",
       "<p>150 rows × 4 columns</p>\n",
       "</div>"
      ],
      "text/plain": [
       "     sepal length (cm)  sepal width (cm)  petal length (cm)  petal width (cm)\n",
       "0                  5.1               3.5                1.4               0.2\n",
       "1                  4.9               3.0                1.4               0.2\n",
       "2                  4.7               3.2                1.3               0.2\n",
       "3                  4.6               3.1                1.5               0.2\n",
       "4                  5.0               3.6                1.4               0.2\n",
       "..                 ...               ...                ...               ...\n",
       "145                6.7               3.0                5.2               2.3\n",
       "146                6.3               2.5                5.0               1.9\n",
       "147                6.5               3.0                5.2               2.0\n",
       "148                6.2               3.4                5.4               2.3\n",
       "149                5.9               3.0                5.1               1.8\n",
       "\n",
       "[150 rows x 4 columns]"
      ]
     },
     "execution_count": 16,
     "metadata": {},
     "output_type": "execute_result"
    }
   ],
   "source": [
    "pd.DataFrame(iris.data, columns=iris.feature_names) # does not have to be in DF or have column names\n",
    "# just in DF for ease of viewing"
   ]
  },
  {
   "cell_type": "markdown",
   "id": "775fb266",
   "metadata": {},
   "source": [
    "Note that X (capital) refers to the input dataframe and y (lowercase) refers to the labels, this notation is specific to supervised learning and should not be confused with the data x and y which we use for plotting.\n",
    "\n",
    "train_test_split gives 4 outputs:\n",
    "+ X_train - training data set\n",
    "+ X_test - testing data set\n",
    "+ y_train - training labels\n",
    "+ y_test - testing labels"
   ]
  },
  {
   "cell_type": "code",
   "execution_count": 17,
   "id": "1ed984d9",
   "metadata": {},
   "outputs": [
    {
     "name": "stdout",
     "output_type": "stream",
     "text": [
      "(112, 4)\n",
      "(38, 4)\n",
      "(112,)\n",
      "(38,)\n"
     ]
    }
   ],
   "source": [
    "X_train, X_test, y_train, y_test = train_test_split(iris.data, iris.target, train_size=0.75)\n",
    "print(X_train.shape) # dataset split by train size\n",
    "print(X_test.shape) # dataset not included in above dataset\n",
    "print(y_train.shape) # labels for corresponding X_train\n",
    "print(y_test.shape) # labels for corresponding X_test"
   ]
  },
  {
   "cell_type": "markdown",
   "id": "57c3bf8b",
   "metadata": {},
   "source": [
    "## Classification\n",
    "There are many different classifier models. Here, we will explore Nearest Neighbors, one of the most widely used methods, as well as Decision Trees, Multilayer Perceptron, and Naive Bayes.\n",
    "<br></br>\n",
    "For more info, the sklearn website has a great implementation of visualizing different classifiers. https://scikit-learn.org/stable/auto_examples/classification/plot_classifier_comparison.html#sphx-glr-auto-examples-classification-plot-classifier-comparison-py\n",
    "<br></br>\n",
    "For a brief overview of each classifier:\n",
    "+ **Nearest Neighbors** - Imagine we had a 2D dataset with an x axis and a y axis. For our training data, we would classify each point based on the its label. This is our model. For each point in the test set, we get the labels of the nearest points (from the training set) on our XY plane and classify it based on the labels of its neighbors. While a 2D plane is easy to visualize, Nearest Neighbors can be used in any number of dimensions/features.\n",
    "<br></br>\n",
    "+ **Decision Tree** - This classifier builds what is called a decision tree based on the data. Imagine a fork in the road with two possible routes to go, and then within each route is an additional fork each with their own additional forks and so on. Now instead of forks in the road, imagine a tree with different limbs that branch out the further you go from the trunk. The base of the tree is where the input goes in and based on the model, it winds up at the very end of a possible branch which is the output label. This is a good way to visualize how decision tree algorithms work.\n",
    "<br></br>\n",
    "+ **Multilayer Perceptron** - This is a neural network based classifier. A neural network with a predetermined number of intermediate layers is created based on the training data.\n",
    "<br></br>\n",
    "+ **Naive-Bayes** - This is algorithm based on the independence clause in Bayes' Theorem. Each feature (column/variable) is assumed to be independent of every other feature. A probabilistic model is then built around this to arrive at the most likely output for every given input."
   ]
  },
  {
   "cell_type": "code",
   "execution_count": 18,
   "id": "321dc862",
   "metadata": {},
   "outputs": [],
   "source": [
    "from sklearn.neighbors import KNeighborsClassifier # default number of neighbors looked at is 5\n",
    "from sklearn.tree import DecisionTreeClassifier\n",
    "from sklearn.neural_network import MLPClassifier\n",
    "from sklearn.naive_bayes import GaussianNB"
   ]
  },
  {
   "cell_type": "markdown",
   "id": "4d2c146a",
   "metadata": {},
   "source": [
    "Basic Skeleton:"
   ]
  },
  {
   "cell_type": "code",
   "execution_count": 21,
   "id": "cdf97f52",
   "metadata": {},
   "outputs": [],
   "source": [
    "# Pre-Process Data First!!!\n",
    "classifier = KNeighborsClassifier(n_neighbors=5) # substitute with any classifier\n",
    "classifier.fit(X_train, y_train) # trains model to training dataset, labels\n",
    "y_pred = classifier.predict(X_test) # uses modelto predict labels of X_test"
   ]
  },
  {
   "cell_type": "markdown",
   "id": "e65c3bb6",
   "metadata": {},
   "source": [
    "Doing this yields the array y_pred which is an array of numeric labels that the model has decided. You can compare this with y_test to see the accuracy."
   ]
  },
  {
   "cell_type": "code",
   "execution_count": 22,
   "id": "bc80a9c0",
   "metadata": {},
   "outputs": [
    {
     "data": {
      "text/plain": [
       "0.9736842105263158"
      ]
     },
     "execution_count": 22,
     "metadata": {},
     "output_type": "execute_result"
    }
   ],
   "source": [
    "sum(y_pred == y_test) / len(y_test) # percent correct #97.37%"
   ]
  },
  {
   "cell_type": "markdown",
   "id": "fab3c867",
   "metadata": {},
   "source": [
    "Example using KNeighborsClassifier"
   ]
  },
  {
   "cell_type": "code",
   "execution_count": 23,
   "id": "757e0967",
   "metadata": {},
   "outputs": [
    {
     "name": "stdout",
     "output_type": "stream",
     "text": [
      "Using the KNeighborsClassifier, the model was able to accurately predict 100.0% of the test set.\n"
     ]
    }
   ],
   "source": [
    "X_train, X_test, y_train, y_test = train_test_split(iris.data, iris.target, train_size=0.8)\n",
    "\n",
    "classifier = KNeighborsClassifier()\n",
    "classifier.fit(X_train, y_train)\n",
    "y_pred = classifier.predict(X_test)\n",
    "\n",
    "accuracy = sum(y_pred == y_test) / len(y_test)\n",
    "\n",
    "print(f'Using the KNeighborsClassifier, the model was able to accurately predict {accuracy * 100}% of the test set.')"
   ]
  },
  {
   "cell_type": "markdown",
   "id": "7b02adcc",
   "metadata": {},
   "source": [
    "## Regression"
   ]
  },
  {
   "cell_type": "markdown",
   "id": "dcdbf146",
   "metadata": {},
   "source": [
    "Regression is very much like classification however instead of starting with numeric data and ending with a categorical label, we start with numeric data and end with a numeric output.\n",
    "<br></br>\n",
    "We will be exploring Linear Regression, perhaps the simplest model, as well as Nearest Neighbors Regression, Stochastic Gradient Descent Regression, Support Vector Machine, and Bayesian Ridge Regression.\n",
    "<br></br>\n",
    "Due to the complex math behind each of these models, we will not go into details but the sklearn website is a great resource for further details."
   ]
  },
  {
   "cell_type": "code",
   "execution_count": 24,
   "id": "688a64ba",
   "metadata": {},
   "outputs": [],
   "source": [
    "from sklearn.linear_model import LinearRegression\n",
    "from sklearn.neighbors import KNeighborsRegressor\n",
    "from sklearn.linear_model import SGDRegressor\n",
    "from sklearn.svm import SVR\n",
    "from sklearn.linear_model import BayesianRidge"
   ]
  },
  {
   "cell_type": "markdown",
   "id": "3981a631",
   "metadata": {},
   "source": [
    "The code behind regression is the exact same as in classification (SEE ABOVE) except instead of y_pred being a collection of numerical labels, it will be a numerical quantitative output."
   ]
  },
  {
   "cell_type": "code",
   "execution_count": 25,
   "id": "dc820b72",
   "metadata": {},
   "outputs": [
    {
     "name": "stdout",
     "output_type": "stream",
     "text": [
      "Completed 0/1000 simulations\n",
      "Completed 50/1000 simulations\n",
      "Completed 100/1000 simulations\n",
      "Completed 150/1000 simulations\n",
      "Completed 200/1000 simulations\n",
      "Completed 250/1000 simulations\n",
      "Completed 300/1000 simulations\n",
      "Completed 350/1000 simulations\n",
      "Completed 400/1000 simulations\n",
      "Completed 450/1000 simulations\n",
      "Completed 500/1000 simulations\n",
      "Completed 550/1000 simulations\n",
      "Completed 600/1000 simulations\n",
      "Completed 650/1000 simulations\n",
      "Completed 700/1000 simulations\n",
      "Completed 750/1000 simulations\n",
      "Completed 800/1000 simulations\n",
      "Completed 850/1000 simulations\n",
      "Completed 900/1000 simulations\n",
      "Completed 950/1000 simulations\n",
      "\n",
      "After 1000 simulations, the average error for each regressor is as follows:\n",
      "\tLinear : 5.142406364818451\n",
      "\tNearest Neighbors : 6.468889887640449\n",
      "\tStochastic Gradient Descent : 5.136690069858101\n",
      "\tSupport Vector : 13.323948274382612\n",
      "\tBayesian Ridge : 5.118739585773967\n"
     ]
    }
   ],
   "source": [
    "scaler = StandardScaler()\n",
    "scaled_data = scaler.fit_transform(diabetes.data)\n",
    "\n",
    "regressors_names = [\n",
    "    'Linear', \n",
    "    'Nearest Neighbors', \n",
    "    'Stochastic Gradient Descent', \n",
    "    'Support Vector',\n",
    "    'Bayesian Ridge'\n",
    "]\n",
    "\n",
    "regressors = [\n",
    "    LinearRegression(),\n",
    "    KNeighborsRegressor(),\n",
    "    SGDRegressor(),\n",
    "    SVR(),\n",
    "    BayesianRidge()\n",
    "]\n",
    "\n",
    "regressors_perf = {\n",
    "    0: [],\n",
    "    1: [],\n",
    "    2: [],\n",
    "    3: [],\n",
    "    4: []\n",
    "}\n",
    "\n",
    "for n in range(1000):\n",
    "    X_train, X_test, y_train, y_test = train_test_split(scaled_data, diabetes.target, train_size=0.8)\n",
    "    for i in range(len(regressors)):\n",
    "        model = regressors[i]\n",
    "        model.fit(X_train, y_train)\n",
    "        y_pred = model.predict(X_test)\n",
    "\n",
    "        difference = y_pred - y_test\n",
    "        regressors_perf[i].append(abs(np.mean(difference)))\n",
    "    if n % 50 == 0:\n",
    "        print(f'Completed {n}/1000 simulations')\n",
    "        \n",
    "print('\\nAfter 1000 simulations, the average error for each regressor is as follows:')\n",
    "for i in regressors_perf:\n",
    "    print(f'\\t{regressors_names[i]} : {np.mean(regressors_perf[i])}')\n",
    "\n"
   ]
  },
  {
   "cell_type": "markdown",
   "id": "58e0d07c",
   "metadata": {},
   "source": [
    "# (4) Unsupervised Learning"
   ]
  },
  {
   "cell_type": "markdown",
   "id": "27313d7f",
   "metadata": {},
   "source": [
    "## Dimensionality Reduction\n",
    "Dimensionality reduction is a technique used to take a dataset with a lot of different dimensions (e.g. columns/features) and reduce each data point down to a lower dimensional space. In this case, we will be reducing our data down to 2D so we can plot it on the XY plane. It's important to note that when dimensions are reduced, the X and Y axis don't represent any specific feature, but rather represent alikeness across every dimension/feature.\n",
    "<br></br>\n",
    "The three methods we will be using are in order of their complexity and development data. All three are established in research.\n",
    "+ Principal Component Analysis (PCA)\n",
    "+ t-Distributed Stochastic Neighbor Embedding (t-SNE)\n",
    "+ Uniform Manifold Approximation and Projection (UMAP) "
   ]
  },
  {
   "cell_type": "code",
   "execution_count": 26,
   "id": "5523a34a",
   "metadata": {},
   "outputs": [
    {
     "ename": "ModuleNotFoundError",
     "evalue": "No module named 'umap'",
     "output_type": "error",
     "traceback": [
      "\u001b[0;31m---------------------------------------------------------------------------\u001b[0m",
      "\u001b[0;31mModuleNotFoundError\u001b[0m                       Traceback (most recent call last)",
      "Cell \u001b[0;32mIn[26], line 3\u001b[0m\n\u001b[1;32m      1\u001b[0m \u001b[38;5;28;01mfrom\u001b[39;00m \u001b[38;5;21;01msklearn\u001b[39;00m\u001b[38;5;21;01m.\u001b[39;00m\u001b[38;5;21;01mdecomposition\u001b[39;00m \u001b[38;5;28;01mimport\u001b[39;00m PCA\n\u001b[1;32m      2\u001b[0m \u001b[38;5;28;01mfrom\u001b[39;00m \u001b[38;5;21;01msklearn\u001b[39;00m\u001b[38;5;21;01m.\u001b[39;00m\u001b[38;5;21;01mmanifold\u001b[39;00m \u001b[38;5;28;01mimport\u001b[39;00m TSNE\n\u001b[0;32m----> 3\u001b[0m \u001b[38;5;28;01mfrom\u001b[39;00m \u001b[38;5;21;01mumap\u001b[39;00m \u001b[38;5;28;01mimport\u001b[39;00m UMAP\n",
      "\u001b[0;31mModuleNotFoundError\u001b[0m: No module named 'umap'"
     ]
    }
   ],
   "source": [
    "from sklearn.decomposition import PCA\n",
    "from sklearn.manifold import TSNE\n",
    "from umap import UMAP"
   ]
  },
  {
   "cell_type": "markdown",
   "id": "ee968c93",
   "metadata": {},
   "source": [
    "### Skeleton Code"
   ]
  },
  {
   "cell_type": "code",
   "execution_count": null,
   "id": "e2b019cd",
   "metadata": {},
   "outputs": [],
   "source": [
    "# Pre-Process Data First!!!\n",
    "reducer = FILL IN\n",
    "embedding = reducer.fit_transform(DATA)"
   ]
  },
  {
   "cell_type": "markdown",
   "id": "a060937d",
   "metadata": {},
   "source": [
    "### Plotting"
   ]
  },
  {
   "cell_type": "code",
   "execution_count": null,
   "id": "fa35a1d9",
   "metadata": {},
   "outputs": [],
   "source": [
    "x_vals = embedding[:, 0]\n",
    "y_vals = embedding[:, 1]"
   ]
  },
  {
   "cell_type": "markdown",
   "id": "869eb9e2",
   "metadata": {},
   "source": [
    "Demonstration"
   ]
  },
  {
   "cell_type": "code",
   "execution_count": null,
   "id": "1deef61e",
   "metadata": {},
   "outputs": [],
   "source": [
    "plt.rcParams['figure.figsize'] = [12, 5]\n",
    "\n",
    "scaler = StandardScaler()\n",
    "scaled_data = scaler.fit_transform(wine.data)\n",
    "\n",
    "reducers = [\n",
    "    PCA(),\n",
    "    TSNE(),\n",
    "    UMAP()\n",
    "]\n",
    "reducers_names = ['PCA', 't-SNE', 'UMAP']\n",
    "\n",
    "fig, axs = plt.subplots(1, 3, constrained_layout=True)\n",
    "\n",
    "for i in range(3):\n",
    "    embedding = reducers[i].fit_transform(scaled_data)\n",
    "    x_vals = embedding[:, 0]\n",
    "    y_vals = embedding[:, 1]\n",
    "    axs[i].scatter(x_vals, y_vals, c=wine.target, cmap='nipy_spectral', alpha=0.5)\n",
    "    axs[i].set_title(reducers_names[i])\n"
   ]
  },
  {
   "cell_type": "markdown",
   "id": "480a3fbd",
   "metadata": {},
   "source": [
    "## Clustering\n",
    "There are a wide variety of different clustering algorithms. Here, we will only examine K-Means, perhaps the most commonly used clustering algorithm, and HDBSCAN, an improved version of the standard DBSCAN algorithm, which I think is one of the best if the number of clusters is unknown :)\n",
    "<br></br>\n",
    "But here is a link to the sklearn implementation of different clustering algorithms with some helpful visualizations of the differences between each algorithm.\n",
    "https://scikit-learn.org/stable/modules/clustering.html"
   ]
  },
  {
   "cell_type": "code",
   "execution_count": null,
   "id": "4f9d5738",
   "metadata": {},
   "outputs": [],
   "source": [
    "from sklearn.cluster import KMeans\n",
    "from yellowbrick.cluster import KElbowVisualizer\n",
    "from hdbscan import HDBSCAN"
   ]
  },
  {
   "cell_type": "markdown",
   "id": "c097c0b1",
   "metadata": {},
   "source": [
    "### K-Means\n",
    "By default, K-Means will attempt to make a guess as to how many clusters there are based on similarity in location. The number of clusters then, will vary. You can however manually set the number of clusters using the n_clusters parameter."
   ]
  },
  {
   "cell_type": "code",
   "execution_count": null,
   "id": "cbbe5817",
   "metadata": {},
   "outputs": [],
   "source": [
    "fig, axs = plt.subplots(1, 3, constrained_layout=True)\n",
    "plt.rcParams['figure.figsize'] = [12, 5]\n",
    "\n",
    "scaler = StandardScaler()\n",
    "scaled_data = scaler.fit_transform(wine.data)\n",
    "\n",
    "reducer = PCA() # arbitrary for this demo\n",
    "embedding = reducer.fit_transform(scaled_data)\n",
    "x_vals = embedding[:, 0]\n",
    "y_vals = embedding[:, 1]\n",
    "\n",
    "param_names = ['No Params', 'Clusters = 3', 'Clusters = 15']\n",
    "cluster_models = [\n",
    "    KMeans(),\n",
    "    KMeans(n_clusters=3),\n",
    "    KMeans(n_clusters=15)\n",
    "]\n",
    "\n",
    "for i in range(3):\n",
    "    labels = cluster_models[i].fit_predict(embedding)\n",
    "    \n",
    "    axs[i].scatter(x_vals, y_vals, c=labels, cmap='nipy_spectral', alpha=0.5)\n",
    "    axs[i].set_title(param_names[i])"
   ]
  },
  {
   "cell_type": "markdown",
   "id": "b28e09f2",
   "metadata": {},
   "source": [
    "### Elbow Plots\n",
    "How do we figure out whow many clusters to use for KMeans? One way to do this is to create an elbow plot. An elbow plot shows a metric called inertia for various different possible K values. A higher K means a lower inertia score the lower the inertia score the better, but there is a point of diminishing returns. Our aim is to find the number of clusters, K, that results in the best clusters/inertia ratio. You can find this by visualizing the plot as an arm and trying to find the spot that is the elbow."
   ]
  },
  {
   "cell_type": "code",
   "execution_count": null,
   "id": "41169b75",
   "metadata": {},
   "outputs": [],
   "source": [
    "# elbow plot method 1\n",
    "scaler = StandardScaler()\n",
    "scaled_data = scaler.fit_transform(wine.data)\n",
    "\n",
    "wcss = []\n",
    "for i in range(1, 11):\n",
    "    kmeans = KMeans(n_clusters=i, init='k-means++', max_iter=300, n_init=10, random_state=0)\n",
    "    kmeans.fit(scaled_data)\n",
    "    wcss.append(kmeans.inertia_)\n",
    "plt.plot(range(1, 11), wcss)\n",
    "plt.title('Elbow Method')\n",
    "plt.xlabel('Number of clusters')\n",
    "plt.ylabel('WCSS')\n",
    "plt.show()"
   ]
  },
  {
   "cell_type": "markdown",
   "id": "b8780484",
   "metadata": {},
   "source": [
    "yellowbrick, another package, provides a very convenient visualizer function which automatically graphs an elbow plot and tells you what the best number of clusters is."
   ]
  },
  {
   "cell_type": "code",
   "execution_count": null,
   "id": "5b52c483",
   "metadata": {},
   "outputs": [],
   "source": [
    "# elbow  plot method 2\n",
    "visualizer = KElbowVisualizer(KMeans(), k=(1,11))\n",
    "visualizer.fit(scaled_data)"
   ]
  },
  {
   "cell_type": "markdown",
   "id": "5f02b517",
   "metadata": {},
   "source": [
    "### Hierarchical Density-Based Spatial Clustering of Applications with Noise\n",
    "\"HDBSCAN is a clustering algorithm developed by Campello, Moulavi, and Sander. It extends DBSCAN by converting it into a hierarchical clustering algorithm, and then using a technique to extract a flat clustering based in the stability of clusters.\"\n",
    "https://hdbscan.readthedocs.io/en/latest/how_hdbscan_works.html\n",
    "<br></br>\n",
    "Unlike K-Means clustering, HDBSCAN does not allow you to choose the default number of clusters, but if you do not know the exact amount of clusters, it generally performs better than other algorithms. In addition, unlike K-Means clustering, HDBSCAN does not need to assign every value to a label, and you can see the label -1 used when it is not confident about which cluster the data belongs to (this is shown as dark grey on the plot).\n",
    "<br></br>\n",
    "Due to the method in which the algorithm works, HDBSCAN is not a good choice for clustering based on PCA."
   ]
  },
  {
   "cell_type": "code",
   "execution_count": null,
   "id": "eadb48e6",
   "metadata": {},
   "outputs": [],
   "source": [
    "plt.rcParams['figure.figsize'] = [12, 5]\n",
    "\n",
    "scaler = StandardScaler()\n",
    "scaled_data = scaler.fit_transform(wine.data)\n",
    "\n",
    "cluster_model = HDBSCAN()\n",
    "\n",
    "reducers = [\n",
    "    PCA(),\n",
    "    TSNE(),\n",
    "    UMAP()\n",
    "]\n",
    "reducers_names = ['PCA', 't-SNE', 'UMAP']\n",
    "\n",
    "fig, axs = plt.subplots(1, 3, constrained_layout=True)\n",
    "\n",
    "for i in range(3):\n",
    "    embedding = reducers[i].fit_transform(scaled_data)\n",
    "    x_vals = embedding[:, 0]\n",
    "    y_vals = embedding[:, 1]\n",
    "    labels = cluster_model.fit_predict(embedding)\n",
    "    axs[i].scatter(x_vals, y_vals, c=labels, cmap='nipy_spectral', alpha=0.5)\n",
    "    axs[i].set_title(reducers_names[i])\n",
    "    "
   ]
  },
  {
   "cell_type": "markdown",
   "id": "d9cbe410",
   "metadata": {},
   "source": [
    "# (5) Sidenote on Hyperparameters\n",
    "Nearly every machine learning has a variety of different variables to finetune the performance. Certain algorithms are better than others using the default parameters, but to find the absolute best one, you have to play around. These variables are called hyperparameters and there is good documentation on the scikit-learn/UMAP/HDBSCAN websites. \n",
    "<br></br>\n",
    "There are also a number of functions within sklearn to find the best parameter. This will not be covered in this course and you are not expected to use them, but if you are interested, here is a link to their documentation on finding the best model: https://scikit-learn.org/stable/model_selection.html#model-selection"
   ]
  },
  {
   "cell_type": "markdown",
   "id": "ab055406",
   "metadata": {},
   "source": [
    "# (6) Implementation With -Omics Data\n",
    "Omics data works the exact same as the other data in this tutorial. Just remember to identify which machine learning technique to use, and to use every preprocessing step we talked about:\n",
    "+ Clean NA values\n",
    "+ Encode categorical variables into numeric labels\n",
    "+ Scale data"
   ]
  },
  {
   "cell_type": "markdown",
   "id": "d2303f1f",
   "metadata": {},
   "source": [
    "# (7) Exercises - only this part will be graded\n",
    "Exercises 1 & 2 will be graded on accuracy. Exercise 3 will be graded on completion and effort. No extra credit will be granted outside of Exercise 4."
   ]
  },
  {
   "cell_type": "markdown",
   "id": "2fa0da24",
   "metadata": {},
   "source": [
    "**Exercise 1** - Preprocessing/Supervised Learning (3 pt)\n",
    "1. Fill in the skeleton code to complete the iris classification plot.\n",
    "2. Answer the following questions:\n",
    "+ Define the following preprocessing methods and describe why each are necessary\n",
    "    + NA removal\n",
    "    + Scaling\n",
    "    + Encoding\n",
    "+ What is the difference between classification and regression?"
   ]
  },
  {
   "cell_type": "code",
   "execution_count": 32,
   "id": "5fc880aa",
   "metadata": {},
   "outputs": [],
   "source": [
    "from sklearn.preprocessing import StandardScaler\n",
    "from sklearn.model_selection import train_test_split\n",
    "from sklearn import datasets\n",
    "\n",
    "iris = datasets.load_iris()\n",
    "\n",
    "unscaled_data = iris.data\n",
    "\n",
    "scaler = StandardScaler()\n",
    "scaled_data = scaler.fit_transform(unscaled_data)\n",
    "\n",
    "classifier = KNeighborsClassifier() # your choice of which classifier to use\n",
    "\n",
    "x_train, x_test, y_train, y_test = train_test_split(scaled_data, iris.target, train_size=0.75)\n",
    "\n",
    "classifier.fit(x_train, y_train)\n",
    "\n",
    "y_pred = classifier.predict ( x_test)"
   ]
  },
  {
   "cell_type": "markdown",
   "id": "cf0f5f45",
   "metadata": {},
   "source": [
    "Visualize your predictions here"
   ]
  },
  {
   "cell_type": "code",
   "execution_count": 36,
   "id": "50ba40ce",
   "metadata": {},
   "outputs": [
    {
     "data": {
      "text/plain": [
       "Text(0.5, 0.98, 'Comparing Length and Width Between Sepals and Petals')"
      ]
     },
     "execution_count": 36,
     "metadata": {},
     "output_type": "execute_result"
    },
    {
     "data": {
      "image/png": "[encoded data removed]",
      "text/plain": [
       "<Figure size 640x480 with 4 Axes>"
      ]
     },
     "metadata": {},
     "output_type": "display_data"
    }
   ],
   "source": [
    "import matplotlib.pyplot as plt\n",
    "fig, axs = plt.subplots(2, 2)\n",
    "\n",
    "iris_df = pd.DataFrame(x_test)\n",
    "\n",
    "axs[0][0].scatter(iris_df.iloc[:, 0], iris_df.iloc[:, 1], c=y_pred, s=20, cmap='gist_rainbow')\n",
    "axs[0][0].set_ylabel('sepal width (cm)')\n",
    "\n",
    "axs[0][1].scatter(iris_df.iloc[:, 2], iris_df.iloc[:, 1], c=y_pred, s=20, cmap='gist_rainbow')\n",
    "\n",
    "axs[1][0].scatter(iris_df.iloc[:, 0], iris_df.iloc[:, 3], c=y_pred, s=20, cmap='gist_rainbow')\n",
    "axs[1][0].set_xlabel('sepal length (cm)')\n",
    "axs[1][0].set_ylabel('petal width (cm)')\n",
    "\n",
    "axs[1][1].scatter(iris_df.iloc[:, 2], iris_df.iloc[:, 3], c=y_pred, s=20, cmap='gist_rainbow')\n",
    "axs[1][1].set_xlabel('petal length (cm)')\n",
    "\n",
    "fig.suptitle('Comparing Length and Width Between Sepals and Petals')"
   ]
  },
  {
   "cell_type": "code",
   "execution_count": 34,
   "id": "aadea028",
   "metadata": {},
   "outputs": [],
   "source": [
    "# answer questions here\n",
    "\n",
    "#NA removal allows for the data to be properly usable. When looking at masses of data , it must be consistent in order\n",
    "#to portray the use. In machine learning specifically it allows for proper efficiency and it allows for the actual machine learning process to finish\n",
    "\n",
    "#Scaling in my understadning reshapes the data by standardizing in a normal context. It makes it easier to read and digest to what the model is trying to convey.\n",
    "\n",
    "#Encoding changes categorical variables into numberical ones similar to the functions we had in R studio. This is an addition when we are cleaning the data \n",
    "\n",
    "#Classification shows the predicition of categorical data and variables associating with it. Both regression and classification focus on supervised learning but regression does also predict numeric variables too! "
   ]
  },
  {
   "cell_type": "markdown",
   "id": "313dedef",
   "metadata": {},
   "source": [
    "**Exercise 2** - Unsupervised Learning (2 pt)\n",
    "1. Fill in the skeleton code to complete the iris dimensionality reduction and clustering plot.\n",
    "2. Answer the following questions:\n",
    "+ What do the axes on a UMAP, t-SNE, or PCA plot represent?\n",
    "+ Compare the clustered plot vs the actual labels, how close were the clustered labels?"
   ]
  },
  {
   "cell_type": "code",
   "execution_count": 37,
   "id": "29ca0918",
   "metadata": {},
   "outputs": [
    {
     "ename": "ModuleNotFoundError",
     "evalue": "No module named 'umap'",
     "output_type": "error",
     "traceback": [
      "\u001b[0;31m---------------------------------------------------------------------------\u001b[0m",
      "\u001b[0;31mModuleNotFoundError\u001b[0m                       Traceback (most recent call last)",
      "Cell \u001b[0;32mIn[37], line 2\u001b[0m\n\u001b[1;32m      1\u001b[0m \u001b[38;5;66;03m# Step 1) Dimensionality Reduction\u001b[39;00m\n\u001b[0;32m----> 2\u001b[0m \u001b[38;5;28;01mfrom\u001b[39;00m \u001b[38;5;21;01mumap\u001b[39;00m \u001b[38;5;28;01mimport\u001b[39;00m UMAP\n\u001b[1;32m      4\u001b[0m reducer \u001b[38;5;241m=\u001b[39m UMAP()\n\u001b[1;32m      6\u001b[0m embedding \u001b[38;5;241m=\u001b[39m reducer\u001b[38;5;241m.\u001b[39mfit_transformation(scaled_data) \u001b[38;5;66;03m# use the scaled_data from exercise 1 for the data\u001b[39;00m\n",
      "\u001b[0;31mModuleNotFoundError\u001b[0m: No module named 'umap'"
     ]
    }
   ],
   "source": [
    "# Step 1) Dimensionality Reduction\n",
    "from umap import UMAP\n",
    "\n",
    "reducer = UMAP()\n",
    "\n",
    "embedding = reducer.fit_transformation(scaled_data) # use the scaled_data from exercise 1 for the data\n",
    "\n",
    "plt.scatter(embedding[:, 0], embedding[:, 1], color='purple')"
   ]
  },
  {
   "cell_type": "code",
   "execution_count": 38,
   "id": "e53f865d",
   "metadata": {},
   "outputs": [
    {
     "ename": "ModuleNotFoundError",
     "evalue": "No module named 'yellowbrick'",
     "output_type": "error",
     "traceback": [
      "\u001b[0;31m---------------------------------------------------------------------------\u001b[0m",
      "\u001b[0;31mModuleNotFoundError\u001b[0m                       Traceback (most recent call last)",
      "Cell \u001b[0;32mIn[38], line 3\u001b[0m\n\u001b[1;32m      1\u001b[0m \u001b[38;5;66;03m# Step 2) Determination of # of Clusters for KMeans()\u001b[39;00m\n\u001b[1;32m      2\u001b[0m \u001b[38;5;28;01mfrom\u001b[39;00m \u001b[38;5;21;01msklearn\u001b[39;00m\u001b[38;5;21;01m.\u001b[39;00m\u001b[38;5;21;01mcluster\u001b[39;00m \u001b[38;5;28;01mimport\u001b[39;00m KMeans\n\u001b[0;32m----> 3\u001b[0m \u001b[38;5;28;01mfrom\u001b[39;00m \u001b[38;5;21;01myellowbrick\u001b[39;00m\u001b[38;5;21;01m.\u001b[39;00m\u001b[38;5;21;01mcluster\u001b[39;00m \u001b[38;5;28;01mimport\u001b[39;00m KElbowVisualizer\n\u001b[1;32m      5\u001b[0m visualizer \u001b[38;5;241m=\u001b[39m KElbowVisualizer(KMeans(), k \u001b[38;5;241m=\u001b[39m (\u001b[38;5;241m2\u001b[39m,\u001b[38;5;241m10\u001b[39m))\n\u001b[1;32m      6\u001b[0m visualizer\u001b[38;5;241m.\u001b[39mfit(embedding)\n",
      "\u001b[0;31mModuleNotFoundError\u001b[0m: No module named 'yellowbrick'"
     ]
    }
   ],
   "source": [
    "# Step 2) Determination of # of Clusters for KMeans()\n",
    "from sklearn.cluster import KMeans\n",
    "from yellowbrick.cluster import KElbowVisualizer\n",
    "\n",
    "visualizer = KElbowVisualizer(KMeans(), k = (2,10))\n",
    "visualizer.fit(embedding)"
   ]
  },
  {
   "cell_type": "code",
   "execution_count": 40,
   "id": "f545f7ec",
   "metadata": {},
   "outputs": [
    {
     "ename": "NameError",
     "evalue": "name 'visualizer' is not defined",
     "output_type": "error",
     "traceback": [
      "\u001b[0;31m---------------------------------------------------------------------------\u001b[0m",
      "\u001b[0;31mNameError\u001b[0m                                 Traceback (most recent call last)",
      "Cell \u001b[0;32mIn[40], line 2\u001b[0m\n\u001b[1;32m      1\u001b[0m \u001b[38;5;66;03m# Step 3) KMeans Clustering\u001b[39;00m\n\u001b[0;32m----> 2\u001b[0m cluster_model \u001b[38;5;241m=\u001b[39m KMeans(n_clusters \u001b[38;5;241m=\u001b[39m visualizer\u001b[38;5;241m.\u001b[39melbow_value_)\n\u001b[1;32m      4\u001b[0m labels \u001b[38;5;241m=\u001b[39m cluster_model\u001b[38;5;241m.\u001b[39mfit_predict(embedding)\n\u001b[1;32m      6\u001b[0m fig, axs \u001b[38;5;241m=\u001b[39m plt\u001b[38;5;241m.\u001b[39msubplots(\u001b[38;5;241m1\u001b[39m, \u001b[38;5;241m2\u001b[39m, constrained_layout\u001b[38;5;241m=\u001b[39m\u001b[38;5;28;01mTrue\u001b[39;00m, sharey\u001b[38;5;241m=\u001b[39m\u001b[38;5;28;01mTrue\u001b[39;00m)\n",
      "\u001b[0;31mNameError\u001b[0m: name 'visualizer' is not defined"
     ]
    }
   ],
   "source": [
    "# Step 3) KMeans Clustering\n",
    "cluster_model = KMeans(n_clusters = visualizer.elbow_value_)\n",
    "\n",
    "labels = cluster_model.fit_predict(embedding)\n",
    "\n",
    "fig, axs = plt.subplots(1, 2, constrained_layout=True, sharey=True)\n",
    "\n",
    "axs[0].scatter(embedding[:, 0], embedding[:, 1], c=labels, cmap='nipy_spectral', alpha=0.5)\n",
    "axs[0].set_title('Clustered')\n",
    "axs[1].scatter(embedding[:, 0], embedding[:, 1], c=iris.target, cmap='gnuplot', alpha=0.5)\n",
    "axs[1].set_title('Actual Labels')"
   ]
  },
  {
   "cell_type": "code",
   "execution_count": null,
   "id": "79b7551a",
   "metadata": {},
   "outputs": [],
   "source": [
    "# answer questions here\n",
    "\n",
    "#Because I could not see the graph . Based on a friends data, the axes of the UMAP, tSNE , and PCA plot show smaller and more isdolated dimensions of the graph. They are colorcoded and they show data in which it is easy to see the types of variables \n",
    "\n",
    "#Clustered labels are close to the actual labels; however, we see the differentiation in the different colors that we could not see in the actual data."
   ]
  },
  {
   "cell_type": "markdown",
   "id": "d9dd5be7",
   "metadata": {},
   "source": [
    "**Exercise 3** - Do It Yourself (5 pt)\n",
    "<br></br>dermatology.csv is a CSV file with 34 different features. The exact description of each feature is in the dermatology.txt file. Each patient has one of the following conditions (this is the 35th column):\n",
    "+ psoriasis (1)\n",
    "+ seboreic dermatitis (2)\n",
    "+ lichen planus (3)\n",
    "+ pityriasis rosea (4)\n",
    "+ chronic dermatitis (5)\n",
    "+ pityriasis rubra pilaris (6)"
   ]
  },
  {
   "cell_type": "markdown",
   "id": "626b671f",
   "metadata": {},
   "source": [
    "Part I - Preprocessing (1 pt)\n",
    "1. Load the data in\n",
    "2. Separate the target column\n",
    "3. Preprocess the data using necessary methods"
   ]
  },
  {
   "cell_type": "code",
   "execution_count": 43,
   "id": "78837efa",
   "metadata": {},
   "outputs": [
    {
     "name": "stdout",
     "output_type": "stream",
     "text": [
      "   2  2.1  0  3  0.1  0.2  0.3  0.4  1  0.5  ...  0.19  0.20  3.2  0.21  0.22  \\\n",
      "0  3    3  3  2    1    0    0    0  1    1  ...     0     0    0     0     0   \n",
      "1  2    1  2  3    1    3    0    3  0    0  ...     0     2    3     2     0   \n",
      "2  2    2  2  0    0    0    0    0  3    2  ...     3     0    0     0     0   \n",
      "3  2    3  2  2    2    2    0    2  0    0  ...     2     3    2     3     0   \n",
      "4  2    3  2  0    0    0    0    0  0    0  ...     0     0    2     0     0   \n",
      "\n",
      "   0.23  1.1  0.24    55  2.3  \n",
      "0     0    1     0   8.0    1  \n",
      "1     0    2     3  26.0    3  \n",
      "2     0    3     0  40.0    1  \n",
      "3     0    2     3  45.0    3  \n",
      "4     0    1     0  41.0    2  \n",
      "\n",
      "[5 rows x 35 columns]\n"
     ]
    }
   ],
   "source": [
    "# write code here\n",
    "import pandas as pd\n",
    "from sklearn.model_selection import train_test_split\n",
    "from sklearn.impute import SimpleImputer\n",
    "from sklearn.preprocessing import StandardScaler\n",
    "\n",
    "file_path = 'dermatology.csv'\n",
    "\n",
    "dermatology_data = pd.read_csv(file_path, na_values='?')\n",
    "print(dermatology_data.head())\n",
    "\n",
    "#NA values (must remove unecessary data that has slashes or unusable data)\n",
    "X = dermatology_data.iloc[:, :-1] \n",
    "y = dermatology_data.iloc[:, -1]   \n",
    "\n",
    "#handle missing values\n",
    "imputer = SimpleImputer(strategy='mean')  \n",
    "\n",
    "\n",
    "#scaling\n",
    "scaler = StandardScaler()\n",
    "\n"
   ]
  },
  {
   "cell_type": "markdown",
   "id": "7ce3ca60",
   "metadata": {},
   "source": [
    "Part II - Supervised Learning (2 pt)\n",
    "1. Create a train-test split with an appropriate split-ratio\n",
    "2. Test at least 3 different classification techniques to determine which is best able to predict skin condition and present it in a graphical method (can be separate or joined figures)\n",
    "3. Use the age column as a target and create a regression model to predict age from the other features (include skin condition as a feature)"
   ]
  },
  {
   "cell_type": "code",
   "execution_count": 49,
   "id": "89e97509",
   "metadata": {},
   "outputs": [
    {
     "data": {
      "image/png": "[encoded data removed]",
      "text/plain": [
       "<Figure size 1500x400 with 2 Axes>"
      ]
     },
     "metadata": {},
     "output_type": "display_data"
    },
    {
     "data": {
      "image/png": "[encoded data removed]",
      "text/plain": [
       "<Figure size 640x480 with 1 Axes>"
      ]
     },
     "metadata": {},
     "output_type": "display_data"
    }
   ],
   "source": [
    "# write code here\n",
    "from sklearn.model_selection import train_test_split\n",
    "from sklearn.model_selection import train_test_split\n",
    "from sklearn.linear_model import LinearRegression\n",
    "from sklearn.metrics import mean_squared_error\n",
    "\n",
    "X_train, X_test, y_train, y_test = train_test_split(X_scaled, y, test_size=0.2, random_state=42)\n",
    "\n",
    "#Nearest neighbr\n",
    "knn_classifier = KNeighborsClassifier()\n",
    "knn_classifier.fit(X_train, y_train)\n",
    "y_pred_knn = knn_classifier.predict(X_test)\n",
    "\n",
    "\n",
    " # Decision tree\n",
    "dt_classifier = DecisionTreeClassifier()\n",
    "dt_classifier.fit(X_train, y_train)\n",
    "y_pred_dt = dt_classifier.predict(X_test)\n",
    "\n",
    "# # elbow  plot method 2 #(elbow plot did not work....)\n",
    "# visualizer = KElbowVisualizer(KMeans(X_train, y_train), k=(1,11))\n",
    "# visualizer.fit(scaled_data)\n",
    "\n",
    "classifiers = {'KNNeighbor': y_pred_knn, 'Decision Tree': y_pred_dt}\n",
    "\n",
    "plt.figure(figsize=(15, 4))\n",
    "for i, (name, y_pred) in enumerate(classifiers.items(), 1):\n",
    "    plt.subplot(1, 3, i)\n",
    "    plt.scatter(y_test, y_pred)\n",
    "    plt.xlabel('Actual')\n",
    "    plt.ylabel(f'Predicted ({name})')\n",
    "    plt.title(name)\n",
    "\n",
    "plt.tight_layout()\n",
    "plt.show()\n",
    "\n",
    "regressor = LinearRegression()\n",
    "regressor.fit(X_train, y_train)\n",
    "\n",
    "#regression data predicts based on already avilable data\n",
    "y_pred = regressor.predict(X_test)\n",
    "\n",
    "#setting up scatter plot\n",
    "plt.scatter(y_test, y_pred)\n",
    "plt.xlabel('Actual Age')\n",
    "plt.ylabel('Predicted Age')\n",
    "plt.title('Actual Age vs. Predicted Age')\n",
    "plt.show()"
   ]
  },
  {
   "cell_type": "markdown",
   "id": "c99a4366",
   "metadata": {},
   "source": [
    "Part III - Unsupervised Learning (2 pt)\n",
    "1. Use all three dimensionality-reduction techniques to show the data from Part I in 2D (can be separate or joined figures) Pick the dimensionality-reduction technique which results in the greatest separation\n",
    "2. Create an elbow plot to determine the K number of clusters for K-Means\n",
    "3. Cluster based on K-Means and HDBSCAN in a figure which shows both methods side by side"
   ]
  },
  {
   "cell_type": "code",
   "execution_count": 52,
   "id": "d855839d",
   "metadata": {},
   "outputs": [
    {
     "ename": "KeyError",
     "evalue": "'55 column'",
     "output_type": "error",
     "traceback": [
      "\u001b[0;31m---------------------------------------------------------------------------\u001b[0m",
      "\u001b[0;31mKeyError\u001b[0m                                  Traceback (most recent call last)",
      "File \u001b[0;32m~/miniconda3/lib/python3.11/site-packages/pandas/core/indexes/base.py:3790\u001b[0m, in \u001b[0;36mIndex.get_loc\u001b[0;34m(self, key)\u001b[0m\n\u001b[1;32m   3789\u001b[0m \u001b[38;5;28;01mtry\u001b[39;00m:\n\u001b[0;32m-> 3790\u001b[0m     \u001b[38;5;28;01mreturn\u001b[39;00m \u001b[38;5;28mself\u001b[39m\u001b[38;5;241m.\u001b[39m_engine\u001b[38;5;241m.\u001b[39mget_loc(casted_key)\n\u001b[1;32m   3791\u001b[0m \u001b[38;5;28;01mexcept\u001b[39;00m \u001b[38;5;167;01mKeyError\u001b[39;00m \u001b[38;5;28;01mas\u001b[39;00m err:\n",
      "File \u001b[0;32mindex.pyx:152\u001b[0m, in \u001b[0;36mpandas._libs.index.IndexEngine.get_loc\u001b[0;34m()\u001b[0m\n",
      "File \u001b[0;32mindex.pyx:181\u001b[0m, in \u001b[0;36mpandas._libs.index.IndexEngine.get_loc\u001b[0;34m()\u001b[0m\n",
      "File \u001b[0;32mpandas/_libs/hashtable_class_helper.pxi:7080\u001b[0m, in \u001b[0;36mpandas._libs.hashtable.PyObjectHashTable.get_item\u001b[0;34m()\u001b[0m\n",
      "File \u001b[0;32mpandas/_libs/hashtable_class_helper.pxi:7088\u001b[0m, in \u001b[0;36mpandas._libs.hashtable.PyObjectHashTable.get_item\u001b[0;34m()\u001b[0m\n",
      "\u001b[0;31mKeyError\u001b[0m: '55 column'",
      "\nThe above exception was the direct cause of the following exception:\n",
      "\u001b[0;31mKeyError\u001b[0m                                  Traceback (most recent call last)",
      "Cell \u001b[0;32mIn[52], line 24\u001b[0m\n\u001b[1;32m     19\u001b[0m X_tsne \u001b[38;5;241m=\u001b[39m tsne\u001b[38;5;241m.\u001b[39mfit_transform(X)\n\u001b[1;32m     23\u001b[0m plt\u001b[38;5;241m.\u001b[39msubplot(\u001b[38;5;241m1\u001b[39m, \u001b[38;5;241m3\u001b[39m, \u001b[38;5;241m1\u001b[39m)\n\u001b[0;32m---> 24\u001b[0m plt\u001b[38;5;241m.\u001b[39mscatter(X_pca[:, \u001b[38;5;241m0\u001b[39m], X_pca[:, \u001b[38;5;241m1\u001b[39m], c\u001b[38;5;241m=\u001b[39mdermatology_data[\u001b[38;5;124m'\u001b[39m\u001b[38;5;124m55 column\u001b[39m\u001b[38;5;124m'\u001b[39m], cmap\u001b[38;5;241m=\u001b[39m\u001b[38;5;124m'\u001b[39m\u001b[38;5;124mviridis\u001b[39m\u001b[38;5;124m'\u001b[39m)\n\u001b[1;32m     25\u001b[0m plt\u001b[38;5;241m.\u001b[39mtitle(\u001b[38;5;124m'\u001b[39m\u001b[38;5;124mPCA Data Plot\u001b[39m\u001b[38;5;124m'\u001b[39m)\n\u001b[1;32m     27\u001b[0m plt\u001b[38;5;241m.\u001b[39msubplot(\u001b[38;5;241m1\u001b[39m, \u001b[38;5;241m3\u001b[39m, \u001b[38;5;241m2\u001b[39m)\n",
      "File \u001b[0;32m~/miniconda3/lib/python3.11/site-packages/pandas/core/frame.py:3896\u001b[0m, in \u001b[0;36mDataFrame.__getitem__\u001b[0;34m(self, key)\u001b[0m\n\u001b[1;32m   3894\u001b[0m \u001b[38;5;28;01mif\u001b[39;00m \u001b[38;5;28mself\u001b[39m\u001b[38;5;241m.\u001b[39mcolumns\u001b[38;5;241m.\u001b[39mnlevels \u001b[38;5;241m>\u001b[39m \u001b[38;5;241m1\u001b[39m:\n\u001b[1;32m   3895\u001b[0m     \u001b[38;5;28;01mreturn\u001b[39;00m \u001b[38;5;28mself\u001b[39m\u001b[38;5;241m.\u001b[39m_getitem_multilevel(key)\n\u001b[0;32m-> 3896\u001b[0m indexer \u001b[38;5;241m=\u001b[39m \u001b[38;5;28mself\u001b[39m\u001b[38;5;241m.\u001b[39mcolumns\u001b[38;5;241m.\u001b[39mget_loc(key)\n\u001b[1;32m   3897\u001b[0m \u001b[38;5;28;01mif\u001b[39;00m is_integer(indexer):\n\u001b[1;32m   3898\u001b[0m     indexer \u001b[38;5;241m=\u001b[39m [indexer]\n",
      "File \u001b[0;32m~/miniconda3/lib/python3.11/site-packages/pandas/core/indexes/base.py:3797\u001b[0m, in \u001b[0;36mIndex.get_loc\u001b[0;34m(self, key)\u001b[0m\n\u001b[1;32m   3792\u001b[0m     \u001b[38;5;28;01mif\u001b[39;00m \u001b[38;5;28misinstance\u001b[39m(casted_key, \u001b[38;5;28mslice\u001b[39m) \u001b[38;5;129;01mor\u001b[39;00m (\n\u001b[1;32m   3793\u001b[0m         \u001b[38;5;28misinstance\u001b[39m(casted_key, abc\u001b[38;5;241m.\u001b[39mIterable)\n\u001b[1;32m   3794\u001b[0m         \u001b[38;5;129;01mand\u001b[39;00m \u001b[38;5;28many\u001b[39m(\u001b[38;5;28misinstance\u001b[39m(x, \u001b[38;5;28mslice\u001b[39m) \u001b[38;5;28;01mfor\u001b[39;00m x \u001b[38;5;129;01min\u001b[39;00m casted_key)\n\u001b[1;32m   3795\u001b[0m     ):\n\u001b[1;32m   3796\u001b[0m         \u001b[38;5;28;01mraise\u001b[39;00m InvalidIndexError(key)\n\u001b[0;32m-> 3797\u001b[0m     \u001b[38;5;28;01mraise\u001b[39;00m \u001b[38;5;167;01mKeyError\u001b[39;00m(key) \u001b[38;5;28;01mfrom\u001b[39;00m \u001b[38;5;21;01merr\u001b[39;00m\n\u001b[1;32m   3798\u001b[0m \u001b[38;5;28;01mexcept\u001b[39;00m \u001b[38;5;167;01mTypeError\u001b[39;00m:\n\u001b[1;32m   3799\u001b[0m     \u001b[38;5;66;03m# If we have a listlike key, _check_indexing_error will raise\u001b[39;00m\n\u001b[1;32m   3800\u001b[0m     \u001b[38;5;66;03m#  InvalidIndexError. Otherwise we fall through and re-raise\u001b[39;00m\n\u001b[1;32m   3801\u001b[0m     \u001b[38;5;66;03m#  the TypeError.\u001b[39;00m\n\u001b[1;32m   3802\u001b[0m     \u001b[38;5;28mself\u001b[39m\u001b[38;5;241m.\u001b[39m_check_indexing_error(key)\n",
      "\u001b[0;31mKeyError\u001b[0m: '55 column'"
     ]
    },
    {
     "data": {
      "image/png": "[encoded data removed]",
      "text/plain": [
       "<Figure size 640x480 with 1 Axes>"
      ]
     },
     "metadata": {},
     "output_type": "display_data"
    }
   ],
   "source": [
    "# write code here\n",
    "\n",
    "import pandas as pd\n",
    "from sklearn.decomposition import PCA\n",
    "from sklearn.manifold import TSNE\n",
    "# from umap import UMAP\n",
    "import matplotlib.pyplot as plt\n",
    "\n",
    "dermatology_data.head()\n",
    "\n",
    "X = dermatology_data.drop('55', axis=1)  \n",
    "\n",
    "#setting up the pca plot \n",
    "pca = PCA(n_components=2)\n",
    "X_pca = pca.fit_transform(X)\n",
    "\n",
    "# t-SNE plot set up and axis\n",
    "tsne = TSNE(n_components=2)\n",
    "X_tsne = tsne.fit_transform(X)\n",
    "\n",
    "\n",
    "\n",
    "plt.subplot(1, 3, 1)\n",
    "plt.scatter(X_pca[:, 0], X_pca[:, 1], c=dermatology_data['55 column'], cmap='viridis')\n",
    "plt.title('PCA Data Plot')\n",
    "\n",
    "plt.subplot(1, 3, 2)\n",
    "plt.scatter(X_tsne[:, 0], X_tsne[:, 1], c=dermatology_data['55 columns'], cmap='viridis')\n",
    "plt.title('t-SNE Data Plot')\n",
    "\n",
    "plt.tight_layout()\n",
    "plt.show()\n"
   ]
  },
  {
   "cell_type": "markdown",
   "id": "2cc27a09",
   "metadata": {},
   "source": [
    "Part IV - Brief Response (REQUIRED IN ORDER TO GET CREDIT FOR EACH OTHER PART)\n",
    "<br></br>\n",
    "Answer the following questions if you completed the part:\n",
    "1. Which of the preprocessing techniques were required for the data? How did you know?\n",
    "2. Which supervised learning technique (classification vs regression) was best able to predict its respective target? Why do you think so?\n",
    "3. Interpret what the distance between each point represents on the reduced dimensions figure."
   ]
  },
  {
   "cell_type": "code",
   "execution_count": null,
   "id": "b574e9c2",
   "metadata": {},
   "outputs": [],
   "source": [
    "# answer questions here\n",
    "# In order to do the work the following three cleaning processing in this notebook: NA , scaling and encoding were needed. Na removal was needed because there was some unusable data since there was empty slots. Since my graphs did not work but the prior exercises showed the encoding and scaling were needed to show the proper data points and their significance to one another\n",
    "\n",
    "#Based on the definitions briefly dicussed in class, regression would prove to be more effective since it focuses on numerical values as in the age and the prediciton of age which is not csategorical which would be more of a focus toward classification (supervised learning)\n",
    "\n",
    "#Because they didn't work I looked at a "
   ]
  },
  {
   "cell_type": "markdown",
   "id": "2ca15104",
   "metadata": {},
   "source": [
    "**Exercise 4** - Challenge - Extra Credit (5 pts possible) <br>\n",
    "</br>\n",
    "INDIVIDUAL WORK ONLY - credit will be awarded based on thoughtful completion and demonstration of an understanding of ML principles, <u>code comments must be included</u>\n",
    "<br></br>mushroom.csv is a dataset includes 61069 hypothetical mushrooms with caps based on 173 species (353 mushrooms per species). Each mushroom is identified as edible or poisonous. Of the 20 variables, 17 are nominal and 3 are metrical. The features and dataset design can be found in mushroom.txt. Your task is as follows:\n",
    "+ Load and process the data (one challenge we often find ourselves facing is having to reformat data, this will be an exercise in that) from the .csv file\n",
    "+ Create a classifier design and test that it can correctly identify whether a mushroom is edible or poisonous with a minimum accuracy of no lower than 95%. You will determine this by testing it on a 60/40 train-test split 20 times."
   ]
  },
  {
   "cell_type": "code",
   "execution_count": null,
   "id": "3858f148",
   "metadata": {},
   "outputs": [],
   "source": [
    "# write code here"
   ]
  }
 ],
 "metadata": {
  "kernelspec": {
   "display_name": "Python 3 (ipykernel)",
   "language": "python",
   "name": "python3"
  },
  "language_info": {
   "codemirror_mode": {
    "name": "ipython",
    "version": 3
   },
   "file_extension": ".py",
   "mimetype": "text/x-python",
   "name": "python",
   "nbconvert_exporter": "python",
   "pygments_lexer": "ipython3",
   "version": "3.11.4"
  }
 },
 "nbformat": 4,
 "nbformat_minor": 5
}
